{
 "nbformat": 4,
 "nbformat_minor": 0,
 "metadata": {
  "kernelspec": {
   "display_name": "Python 3",
   "language": "python",
   "name": "python3"
  },
  "language_info": {
   "codemirror_mode": {
    "name": "ipython",
    "version": 3
   },
   "file_extension": ".py",
   "mimetype": "text/x-python",
   "name": "python",
   "nbconvert_exporter": "python",
   "pygments_lexer": "ipython3",
   "version": "3.7.3"
  },
  "colab": {
   "name": "preprocessing.ipynb",
   "provenance": [],
   "collapsed_sections": []
  }
 },
 "cells": [
  {
   "cell_type": "code",
   "metadata": {
    "id": "aT5n4wlNO4m2",
    "colab_type": "code",
    "colab": {}
   },
   "source": [
    "#Import neccesary packages \n",
    "\n",
    "import pandas as pd\n",
    "import numpy as np\n",
    "import matplotlib.pyplot as plt\n",
    "import os \n",
    "np.set_printoptions(edgeitems=10)\n",
    "np.core.arrayprint._line_width = 180\n"
   ],
   "execution_count": 0,
   "outputs": []
  },
  {
   "cell_type": "code",
   "metadata": {
    "id": "iwxnHd5zO4nF",
    "colab_type": "code",
    "colab": {
     "base_uri": "https://localhost:8080/",
     "height": 510
    },
    "outputId": "e54cab08-1a76-4528-ee93-41b4d2c2e1d8"
   },
   "source": [
    "#Read in training data set\n",
    "df = pd.read_csv('cs-training.csv')\n",
    "\n",
    "#Explore the variables\n",
    "print(df.head())\n",
    "print(df.columns)\n",
    "\n",
    "#Total obersvations\n",
    "print(df.shape)\n",
    "print(df.dtypes)"
   ],
   "execution_count": 2,
   "outputs": [
    {
     "ename": "NameError",
     "evalue": "name 'pd' is not defined",
     "output_type": "error",
     "traceback": [
      "\u001B[1;31m---------------------------------------------------------------------------\u001B[0m",
      "\u001B[1;31mNameError\u001B[0m                                 Traceback (most recent call last)",
      "\u001B[1;32m<ipython-input-2-d142c2cb764f>\u001B[0m in \u001B[0;36m<module>\u001B[1;34m\u001B[0m\n\u001B[0;32m      1\u001B[0m \u001B[1;31m#Read in training data set\u001B[0m\u001B[1;33m\u001B[0m\u001B[1;33m\u001B[0m\u001B[1;33m\u001B[0m\u001B[0m\n\u001B[1;32m----> 2\u001B[1;33m \u001B[0mdf\u001B[0m \u001B[1;33m=\u001B[0m \u001B[0mpd\u001B[0m\u001B[1;33m.\u001B[0m\u001B[0mread_csv\u001B[0m\u001B[1;33m(\u001B[0m\u001B[1;34m'cs-training.csv'\u001B[0m\u001B[1;33m)\u001B[0m\u001B[1;33m\u001B[0m\u001B[1;33m\u001B[0m\u001B[0m\n\u001B[0m\u001B[0;32m      3\u001B[0m \u001B[1;33m\u001B[0m\u001B[0m\n\u001B[0;32m      4\u001B[0m \u001B[1;31m#Explore the variables\u001B[0m\u001B[1;33m\u001B[0m\u001B[1;33m\u001B[0m\u001B[1;33m\u001B[0m\u001B[0m\n\u001B[0;32m      5\u001B[0m \u001B[0mprint\u001B[0m\u001B[1;33m(\u001B[0m\u001B[0mdf\u001B[0m\u001B[1;33m.\u001B[0m\u001B[0mhead\u001B[0m\u001B[1;33m(\u001B[0m\u001B[1;33m)\u001B[0m\u001B[1;33m)\u001B[0m\u001B[1;33m\u001B[0m\u001B[1;33m\u001B[0m\u001B[0m\n",
      "\u001B[1;31mNameError\u001B[0m: name 'pd' is not defined"
     ]
    }
   ]
  },
  {
   "cell_type": "markdown",
   "metadata": {
    "id": "5NvaCo1JWc8T",
    "colab_type": "text"
   },
   "source": [
    "**Converting dependent variable to categorical type**"
   ]
  },
  {
   "cell_type": "code",
   "metadata": {
    "id": "RJ-zsgJrO4nN",
    "colab_type": "code",
    "colab": {}
   },
   "source": [
    "df.SeriousDlqin2yrs = (df.SeriousDlqin2yrs).astype('category')"
   ],
   "execution_count": 0,
   "outputs": []
  },
  {
   "cell_type": "code",
   "metadata": {
    "id": "La7Z5FsTVJK8",
    "colab_type": "code",
    "outputId": "0bcb07fc-95cb-47cc-eb66-3e089d7e6707",
    "colab": {
     "base_uri": "https://localhost:8080/",
     "height": 334
    }
   },
   "source": [
    "df.describe()"
   ],
   "execution_count": 49,
   "outputs": [
    {
     "output_type": "execute_result",
     "data": {
      "text/html": [
       "<div>\n",
       "<style scoped>\n",
       "    .dataframe tbody tr th:only-of-type {\n",
       "        vertical-align: middle;\n",
       "    }\n",
       "\n",
       "    .dataframe tbody tr th {\n",
       "        vertical-align: top;\n",
       "    }\n",
       "\n",
       "    .dataframe thead th {\n",
       "        text-align: right;\n",
       "    }\n",
       "</style>\n",
       "<table border=\"1\" class=\"dataframe\">\n",
       "  <thead>\n",
       "    <tr style=\"text-align: right;\">\n",
       "      <th></th>\n",
       "      <th>Unnamed: 0</th>\n",
       "      <th>RevolvingUtilizationOfUnsecuredLines</th>\n",
       "      <th>age</th>\n",
       "      <th>NumberOfTime30-59DaysPastDueNotWorse</th>\n",
       "      <th>DebtRatio</th>\n",
       "      <th>MonthlyIncome</th>\n",
       "      <th>NumberOfOpenCreditLinesAndLoans</th>\n",
       "      <th>NumberOfTimes90DaysLate</th>\n",
       "      <th>NumberRealEstateLoansOrLines</th>\n",
       "      <th>NumberOfTime60-89DaysPastDueNotWorse</th>\n",
       "      <th>NumberOfDependents</th>\n",
       "    </tr>\n",
       "  </thead>\n",
       "  <tbody>\n",
       "    <tr>\n",
       "      <th>count</th>\n",
       "      <td>150000.000000</td>\n",
       "      <td>150000.000000</td>\n",
       "      <td>150000.000000</td>\n",
       "      <td>150000.000000</td>\n",
       "      <td>150000.000000</td>\n",
       "      <td>1.202690e+05</td>\n",
       "      <td>150000.000000</td>\n",
       "      <td>150000.000000</td>\n",
       "      <td>150000.000000</td>\n",
       "      <td>150000.000000</td>\n",
       "      <td>146076.000000</td>\n",
       "    </tr>\n",
       "    <tr>\n",
       "      <th>mean</th>\n",
       "      <td>75000.500000</td>\n",
       "      <td>6.048438</td>\n",
       "      <td>52.295207</td>\n",
       "      <td>0.421033</td>\n",
       "      <td>353.005076</td>\n",
       "      <td>6.670221e+03</td>\n",
       "      <td>8.452760</td>\n",
       "      <td>0.265973</td>\n",
       "      <td>1.018240</td>\n",
       "      <td>0.240387</td>\n",
       "      <td>0.757222</td>\n",
       "    </tr>\n",
       "    <tr>\n",
       "      <th>std</th>\n",
       "      <td>43301.414527</td>\n",
       "      <td>249.755371</td>\n",
       "      <td>14.771866</td>\n",
       "      <td>4.192781</td>\n",
       "      <td>2037.818523</td>\n",
       "      <td>1.438467e+04</td>\n",
       "      <td>5.145951</td>\n",
       "      <td>4.169304</td>\n",
       "      <td>1.129771</td>\n",
       "      <td>4.155179</td>\n",
       "      <td>1.115086</td>\n",
       "    </tr>\n",
       "    <tr>\n",
       "      <th>min</th>\n",
       "      <td>1.000000</td>\n",
       "      <td>0.000000</td>\n",
       "      <td>0.000000</td>\n",
       "      <td>0.000000</td>\n",
       "      <td>0.000000</td>\n",
       "      <td>0.000000e+00</td>\n",
       "      <td>0.000000</td>\n",
       "      <td>0.000000</td>\n",
       "      <td>0.000000</td>\n",
       "      <td>0.000000</td>\n",
       "      <td>0.000000</td>\n",
       "    </tr>\n",
       "    <tr>\n",
       "      <th>25%</th>\n",
       "      <td>37500.750000</td>\n",
       "      <td>0.029867</td>\n",
       "      <td>41.000000</td>\n",
       "      <td>0.000000</td>\n",
       "      <td>0.175074</td>\n",
       "      <td>3.400000e+03</td>\n",
       "      <td>5.000000</td>\n",
       "      <td>0.000000</td>\n",
       "      <td>0.000000</td>\n",
       "      <td>0.000000</td>\n",
       "      <td>0.000000</td>\n",
       "    </tr>\n",
       "    <tr>\n",
       "      <th>50%</th>\n",
       "      <td>75000.500000</td>\n",
       "      <td>0.154181</td>\n",
       "      <td>52.000000</td>\n",
       "      <td>0.000000</td>\n",
       "      <td>0.366508</td>\n",
       "      <td>5.400000e+03</td>\n",
       "      <td>8.000000</td>\n",
       "      <td>0.000000</td>\n",
       "      <td>1.000000</td>\n",
       "      <td>0.000000</td>\n",
       "      <td>0.000000</td>\n",
       "    </tr>\n",
       "    <tr>\n",
       "      <th>75%</th>\n",
       "      <td>112500.250000</td>\n",
       "      <td>0.559046</td>\n",
       "      <td>63.000000</td>\n",
       "      <td>0.000000</td>\n",
       "      <td>0.868254</td>\n",
       "      <td>8.249000e+03</td>\n",
       "      <td>11.000000</td>\n",
       "      <td>0.000000</td>\n",
       "      <td>2.000000</td>\n",
       "      <td>0.000000</td>\n",
       "      <td>1.000000</td>\n",
       "    </tr>\n",
       "    <tr>\n",
       "      <th>max</th>\n",
       "      <td>150000.000000</td>\n",
       "      <td>50708.000000</td>\n",
       "      <td>109.000000</td>\n",
       "      <td>98.000000</td>\n",
       "      <td>329664.000000</td>\n",
       "      <td>3.008750e+06</td>\n",
       "      <td>58.000000</td>\n",
       "      <td>98.000000</td>\n",
       "      <td>54.000000</td>\n",
       "      <td>98.000000</td>\n",
       "      <td>20.000000</td>\n",
       "    </tr>\n",
       "  </tbody>\n",
       "</table>\n",
       "</div>"
      ],
      "text/plain": [
       "          Unnamed: 0  ...  NumberOfDependents\n",
       "count  150000.000000  ...       146076.000000\n",
       "mean    75000.500000  ...            0.757222\n",
       "std     43301.414527  ...            1.115086\n",
       "min         1.000000  ...            0.000000\n",
       "25%     37500.750000  ...            0.000000\n",
       "50%     75000.500000  ...            0.000000\n",
       "75%    112500.250000  ...            1.000000\n",
       "max    150000.000000  ...           20.000000\n",
       "\n",
       "[8 rows x 11 columns]"
      ]
     },
     "metadata": {
      "tags": []
     },
     "execution_count": 49
    }
   ]
  },
  {
   "cell_type": "code",
   "metadata": {
    "id": "0I-HG1G1GtV1",
    "colab_type": "code",
    "outputId": "816acb73-ced7-4b06-834b-b72dbd140efa",
    "colab": {
     "base_uri": "https://localhost:8080/",
     "height": 306
    }
   },
   "source": [
    "df.info()"
   ],
   "execution_count": 50,
   "outputs": [
    {
     "output_type": "stream",
     "text": [
      "<class 'pandas.core.frame.DataFrame'>\n",
      "RangeIndex: 150000 entries, 0 to 149999\n",
      "Data columns (total 12 columns):\n",
      "Unnamed: 0                              150000 non-null int64\n",
      "SeriousDlqin2yrs                        150000 non-null category\n",
      "RevolvingUtilizationOfUnsecuredLines    150000 non-null float64\n",
      "age                                     150000 non-null int64\n",
      "NumberOfTime30-59DaysPastDueNotWorse    150000 non-null int64\n",
      "DebtRatio                               150000 non-null float64\n",
      "MonthlyIncome                           120269 non-null float64\n",
      "NumberOfOpenCreditLinesAndLoans         150000 non-null int64\n",
      "NumberOfTimes90DaysLate                 150000 non-null int64\n",
      "NumberRealEstateLoansOrLines            150000 non-null int64\n",
      "NumberOfTime60-89DaysPastDueNotWorse    150000 non-null int64\n",
      "NumberOfDependents                      146076 non-null float64\n",
      "dtypes: category(1), float64(4), int64(7)\n",
      "memory usage: 12.7 MB\n"
     ],
     "name": "stdout"
    }
   ]
  },
  {
   "cell_type": "markdown",
   "metadata": {
    "id": "aU5sW0aXWz_c",
    "colab_type": "text"
   },
   "source": [
    "**Hence, we have NA in MonthlyIncome and NumberOfDependents**"
   ]
  },
  {
   "cell_type": "code",
   "metadata": {
    "id": "yWueJKXhV0LB",
    "colab_type": "code",
    "outputId": "e5d22cc1-e7d8-4849-d146-a4215e39b504",
    "colab": {
     "base_uri": "https://localhost:8080/",
     "height": 51
    }
   },
   "source": [
    "percent_miss_MonthlyIncome = np.round(sum(df['MonthlyIncome'].isna())/df.shape[0],2)\n",
    "percent_miss_NumberOfDependents = np.round(sum(df['NumberOfDependents'].isna())/df.shape[0],2)\n",
    "print('percent_miss_MonthlyIncome : {}'.format(percent_miss_MonthlyIncome))\n",
    "print('percent_miss_NumberOfDependents : {}'.format(percent_miss_NumberOfDependents))"
   ],
   "execution_count": 51,
   "outputs": [
    {
     "output_type": "stream",
     "text": [
      "percent_miss_MonthlyIncome : 0.2\n",
      "percent_miss_NumberOfDependents : 0.03\n"
     ],
     "name": "stdout"
    }
   ]
  },
  {
   "cell_type": "markdown",
   "metadata": {
    "id": "St4jSNgRWDRP",
    "colab_type": "text"
   },
   "source": [
    "\n",
    "**Dealing with Missing Values\n",
    "We got missing values for Monthly Income and Number of Dependants. \n",
    "Monthly Income only has 80 percent values filled but intuitively, is important to predict credit score. \n",
    "So we will not drop this variable and find the best way to replace nulls.**\n"
   ]
  },
  {
   "cell_type": "markdown",
   "metadata": {
    "id": "Jf5mHJ05Xjzo",
    "colab_type": "text"
   },
   "source": [
    "**In below code, we will subset datas having missing/not missing income and then visualize how other variables are distributed for both subsets**"
   ]
  },
  {
   "cell_type": "code",
   "metadata": {
    "id": "f_kDwGhtQJk7",
    "colab_type": "code",
    "outputId": "ff283c0b-a49e-4b1d-ab83-ba672d03e76a",
    "colab": {
     "base_uri": "https://localhost:8080/",
     "height": 1000
    }
   },
   "source": [
    "df_mis_inc = df[df['MonthlyIncome'].isna()]\n",
    "df_not_mis_inc = df[df['MonthlyIncome'].notna()]\n",
    "varNames = ['RevolvingUtilizationOfUnsecuredLines', 'age', 'NumberOfTime30-59DaysPastDueNotWorse', 'DebtRatio', 'NumberOfOpenCreditLinesAndLoans', 'NumberOfTimes90DaysLate', 'NumberRealEstateLoansOrLines', 'NumberOfTime60-89DaysPastDueNotWorse', 'NumberOfDependents']\n",
    "\n",
    "\n",
    "import numpy as np\n",
    "from statsmodels.distributions.empirical_distribution import ECDF\n",
    "def visualizeECDF( variable,data):\n",
    "    df = data[:] \n",
    "    ecdf = ECDF(df[variable])\n",
    "    x = np.linspace(min(df[variable]), np.percentile(df[variable],99.9))\n",
    "    y = ecdf(x)\n",
    "    plt.step(x, y)\n",
    "\n",
    "np.random.seed(100)\n",
    "fig, axes = plt.subplots(nrows=10, ncols=2)\n",
    "fig.tight_layout()\n",
    "fig.set_figheight(45)\n",
    "fig.set_figwidth(15)\n",
    "\n",
    "plt.subplots_adjust(hspace=0.5)\n",
    "for i in [1,3,5,7,9,11,13,15,17]:\n",
    "  ax = plt.subplot(9,2,i)\n",
    "  ax.set_title(varNames[(i-1)//2])\n",
    "  visualizeECDF(varNames[(i-1)//2], data = df_not_mis_inc)\n",
    "\n",
    "  ax = plt.subplot(9,2,i+1)\n",
    "  ax.set_title(varNames[(i-1)//2])\n",
    "  visualizeECDF(varNames[(i-1)//2], data = df_mis_inc)\n"
   ],
   "execution_count": 52,
   "outputs": [
    {
     "output_type": "stream",
     "text": [
      "/usr/local/lib/python3.6/dist-packages/ipykernel_launcher.py:17: UserWarning: Tight layout not applied. tight_layout cannot make axes height small enough to accommodate all axes decorations\n"
     ],
     "name": "stderr"
    },
    {
     "output_type": "display_data",
     "data": {
      "image/png": "[encoded data removed]",
      "text/plain": [
       "<Figure size 1080x3240 with 18 Axes>"
      ]
     },
     "metadata": {
      "tags": []
     }
    }
   ]
  },
  {
   "cell_type": "markdown",
   "metadata": {
    "id": "CxX7aUSLYHdv",
    "colab_type": "text"
   },
   "source": [
    "**We found that all other variables are having similar distributions for both subsets, except DebtRatio and NumberOfDependents**"
   ]
  },
  {
   "cell_type": "code",
   "metadata": {
    "id": "qJGubjTDh5yR",
    "colab_type": "code",
    "colab": {}
   },
   "source": [],
   "execution_count": 0,
   "outputs": []
  },
  {
   "cell_type": "markdown",
   "metadata": {
    "id": "XNR7vdhtYpZs",
    "colab_type": "text"
   },
   "source": [
    "**We will also visualize how DebtRatio is distributed Overall**"
   ]
  },
  {
   "cell_type": "code",
   "metadata": {
    "id": "vTsoMv0BkTsY",
    "colab_type": "code",
    "outputId": "2cdf2b8e-61b8-421b-c7d6-1efd2d015089",
    "colab": {
     "base_uri": "https://localhost:8080/",
     "height": 282
    }
   },
   "source": [
    "perc = range(81)\n",
    "val = []\n",
    "for i in perc:\n",
    "  val.append(np.percentile(df['DebtRatio'],i ))\n",
    "\n",
    "import matplotlib.pyplot as plt\n",
    "plt.plot(perc, val, 'go--', linewidth=2, markersize=12)"
   ],
   "execution_count": 53,
   "outputs": [
    {
     "output_type": "execute_result",
     "data": {
      "text/plain": [
       "[<matplotlib.lines.Line2D at 0x7f789d467710>]"
      ]
     },
     "metadata": {
      "tags": []
     },
     "execution_count": 53
    },
    {
     "output_type": "display_data",
     "data": {
      "image/png": "[encoded data removed]",
      "text/plain": [
       "<Figure size 432x288 with 1 Axes>"
      ]
     },
     "metadata": {
      "tags": []
     }
    }
   ]
  },
  {
   "cell_type": "code",
   "metadata": {
    "id": "69kxMQqDY4b6",
    "colab_type": "code",
    "colab": {}
   },
   "source": [],
   "execution_count": 0,
   "outputs": []
  },
  {
   "cell_type": "markdown",
   "metadata": {
    "id": "w-24uvE-Y50c",
    "colab_type": "text"
   },
   "source": [
    "**In below code and visualization, we will see that DebtRatio of missing income subset has same distribution as top 1 percentile DebtRatio values of other subset**"
   ]
  },
  {
   "cell_type": "code",
   "metadata": {
    "id": "n_TkFQLmh56w",
    "colab_type": "code",
    "outputId": "2c861a8b-7f64-4a69-f894-8e8b3d1429d9",
    "colab": {
     "base_uri": "https://localhost:8080/",
     "height": 517
    }
   },
   "source": [
    "perc1 = [99.0,99.1,99.2,99.3,99.4,99.5,99.6,99.7,99.8,99.9]\n",
    "perc2 = [0,10,20,30,40,50,60,70,80,90]\n",
    "\n",
    "\n",
    "val1 = []\n",
    "val2 = []\n",
    "\n",
    "for i in perc1:\n",
    "  val1.append(np.percentile(df_not_mis_inc['DebtRatio'],i))\n",
    "  \n",
    "for i in perc2:\n",
    "  val2.append(np.percentile(df_mis_inc['DebtRatio'],i))\n",
    "\n",
    "plt.plot(perc1,val1)\n",
    "plt.show()\n",
    "\n",
    "\n",
    "plt.plot(perc2,val2)\n",
    "plt.show()\n"
   ],
   "execution_count": 54,
   "outputs": [
    {
     "output_type": "display_data",
     "data": {
      "image/png": "[encoded data removed]",
      "text/plain": [
       "<Figure size 432x288 with 1 Axes>"
      ]
     },
     "metadata": {
      "tags": []
     }
    },
    {
     "output_type": "display_data",
     "data": {
      "image/png": "[encoded data removed]",
      "text/plain": [
       "<Figure size 432x288 with 1 Axes>"
      ]
     },
     "metadata": {
      "tags": []
     }
    }
   ]
  },
  {
   "cell_type": "markdown",
   "metadata": {
    "id": "ErdpTPXJbZtN",
    "colab_type": "text"
   },
   "source": [
    "**Hence, it is clear that the DebtRatio of missing income subset has same distribution as top 1 percentile DebtRatio values of other subset**"
   ]
  },
  {
   "cell_type": "code",
   "metadata": {
    "id": "8KAJbsowZbjt",
    "colab_type": "code",
    "colab": {}
   },
   "source": [],
   "execution_count": 0,
   "outputs": []
  },
  {
   "cell_type": "markdown",
   "metadata": {
    "id": "xljUuQ19axOk",
    "colab_type": "text"
   },
   "source": [
    "**Now let's explore how NumberOfDependents can help to replace missing values of MOnthlyIncome**"
   ]
  },
  {
   "cell_type": "code",
   "metadata": {
    "id": "V2_e9F0fRaXA",
    "colab_type": "code",
    "outputId": "76dfd838-acc9-4358-bae9-dc0511453827",
    "colab": {
     "base_uri": "https://localhost:8080/",
     "height": 545
    }
   },
   "source": [
    "df_not_mis_inc.hist('NumberOfDependents')\n",
    "plt.xticks(np.arange(0, 20, 1));\n",
    "\n",
    "df_mis_inc.hist('NumberOfDependents')\n",
    "plt.xticks(np.arange(0, 20, 1));"
   ],
   "execution_count": 55,
   "outputs": [
    {
     "output_type": "display_data",
     "data": {
      "image/png": "[encoded data removed]",
      "text/plain": [
       "<Figure size 432x288 with 1 Axes>"
      ]
     },
     "metadata": {
      "tags": []
     }
    },
    {
     "output_type": "display_data",
     "data": {
      "image/png": "[encoded data removed]",
      "text/plain": [
       "<Figure size 432x288 with 1 Axes>"
      ]
     },
     "metadata": {
      "tags": []
     }
    }
   ]
  },
  {
   "cell_type": "code",
   "metadata": {
    "id": "o5L1dT3Ch4sB",
    "colab_type": "code",
    "outputId": "27e0f925-7251-4eee-eaf8-bd9a0bbf76ca",
    "colab": {
     "base_uri": "https://localhost:8080/",
     "height": 306
    }
   },
   "source": [
    "print(df_mis_inc['NumberOfDependents'].value_counts())\n",
    "\n",
    "print(df_not_mis_inc.loc[df_not_mis_inc['NumberOfDependents'] == 0 , ['MonthlyIncome']].mean())\n",
    "print(df_not_mis_inc.loc[df_not_mis_inc['NumberOfDependents'] == 1 , ['MonthlyIncome']].mean())\n",
    "print(df_not_mis_inc.loc[df_not_mis_inc['NumberOfDependents'] > 1 , ['MonthlyIncome']].mean())\n",
    "      \n",
    "      \n",
    "#[['NumberOfDependents','MonthlyIncome']].corr())\n",
    "#print(df_mis_inc[['DebtRatio','MonthlyIncome']].corr()\n"
   ],
   "execution_count": 56,
   "outputs": [
    {
     "output_type": "stream",
     "text": [
      "0.0    21446\n",
      "1.0     1937\n",
      "2.0     1412\n",
      "3.0      738\n",
      "4.0      204\n",
      "5.0       57\n",
      "6.0        8\n",
      "7.0        2\n",
      "8.0        2\n",
      "9.0        1\n",
      "Name: NumberOfDependents, dtype: int64\n",
      "MonthlyIncome    5873.411467\n",
      "dtype: float64\n",
      "MonthlyIncome    7205.172361\n",
      "dtype: float64\n",
      "MonthlyIncome    7955.44194\n",
      "dtype: float64\n"
     ],
     "name": "stdout"
    }
   ]
  },
  {
   "cell_type": "markdown",
   "metadata": {
    "id": "E74IDVcgbA7t",
    "colab_type": "text"
   },
   "source": [
    "**Clearly, the majority of the number of dependents is 0 in case of missing MonthlyIncome. We also explored how MonthlyIncome varies with NoOfDependents using the other subset.\n",
    "The difference is not of very high order as in the case of DebtRatio.\n",
    "Hence, we are deciding to impute missing MOnthlyIncome data based on top 1 percentile of DebtRatio**"
   ]
  },
  {
   "cell_type": "code",
   "metadata": {
    "id": "409GNAinRaTV",
    "colab_type": "code",
    "colab": {}
   },
   "source": [],
   "execution_count": 0,
   "outputs": []
  },
  {
   "cell_type": "code",
   "metadata": {
    "id": "6imuwFgXG04l",
    "colab_type": "code",
    "outputId": "5a5d684c-44f1-4bad-aec0-b73a1642779e",
    "colab": {
     "base_uri": "https://localhost:8080/",
     "height": 34
    }
   },
   "source": [
    "df_not_mis_inc.sort_values(by='DebtRatio',ascending=False)[0:1200]['MonthlyIncome'].mean()"
   ],
   "execution_count": 57,
   "outputs": [
    {
     "output_type": "execute_result",
     "data": {
      "text/plain": [
       "0.23916666666666667"
      ]
     },
     "metadata": {
      "tags": []
     },
     "execution_count": 57
    }
   ]
  },
  {
   "cell_type": "markdown",
   "metadata": {
    "id": "U3wMQWZtbowy",
    "colab_type": "text"
   },
   "source": [
    "**Hence, we will be replacing missing Income values with 0 (~0.239)**"
   ]
  },
  {
   "cell_type": "code",
   "metadata": {
    "id": "-C59HuKnmcmb",
    "colab_type": "code",
    "colab": {}
   },
   "source": [
    "df['MonthlyIncome'] = df['MonthlyIncome'].fillna(0)"
   ],
   "execution_count": 0,
   "outputs": []
  },
  {
   "cell_type": "code",
   "metadata": {
    "id": "RSOCFsi6mdvQ",
    "colab_type": "code",
    "colab": {}
   },
   "source": [],
   "execution_count": 0,
   "outputs": []
  },
  {
   "cell_type": "code",
   "metadata": {
    "id": "fjtgFEIfmd2A",
    "colab_type": "code",
    "colab": {}
   },
   "source": [],
   "execution_count": 0,
   "outputs": []
  },
  {
   "cell_type": "markdown",
   "metadata": {
    "id": "m9bFbNQ4dEwV",
    "colab_type": "text"
   },
   "source": [
    "**Now let's explore the missing values in NumberOfDependents**"
   ]
  },
  {
   "cell_type": "code",
   "metadata": {
    "id": "I1j612-gmciD",
    "colab_type": "code",
    "outputId": "e136b5ce-e052-4657-809d-eed116bf5425",
    "colab": {
     "base_uri": "https://localhost:8080/",
     "height": 334
    }
   },
   "source": [
    "df[df['NumberOfDependents'].isna()].describe()"
   ],
   "execution_count": 59,
   "outputs": [
    {
     "output_type": "execute_result",
     "data": {
      "text/html": [
       "<div>\n",
       "<style scoped>\n",
       "    .dataframe tbody tr th:only-of-type {\n",
       "        vertical-align: middle;\n",
       "    }\n",
       "\n",
       "    .dataframe tbody tr th {\n",
       "        vertical-align: top;\n",
       "    }\n",
       "\n",
       "    .dataframe thead th {\n",
       "        text-align: right;\n",
       "    }\n",
       "</style>\n",
       "<table border=\"1\" class=\"dataframe\">\n",
       "  <thead>\n",
       "    <tr style=\"text-align: right;\">\n",
       "      <th></th>\n",
       "      <th>Unnamed: 0</th>\n",
       "      <th>RevolvingUtilizationOfUnsecuredLines</th>\n",
       "      <th>age</th>\n",
       "      <th>NumberOfTime30-59DaysPastDueNotWorse</th>\n",
       "      <th>DebtRatio</th>\n",
       "      <th>MonthlyIncome</th>\n",
       "      <th>NumberOfOpenCreditLinesAndLoans</th>\n",
       "      <th>NumberOfTimes90DaysLate</th>\n",
       "      <th>NumberRealEstateLoansOrLines</th>\n",
       "      <th>NumberOfTime60-89DaysPastDueNotWorse</th>\n",
       "      <th>NumberOfDependents</th>\n",
       "    </tr>\n",
       "  </thead>\n",
       "  <tbody>\n",
       "    <tr>\n",
       "      <th>count</th>\n",
       "      <td>3924.000000</td>\n",
       "      <td>3924.000000</td>\n",
       "      <td>3924.000000</td>\n",
       "      <td>3924.000000</td>\n",
       "      <td>3924.000000</td>\n",
       "      <td>3924.0</td>\n",
       "      <td>3924.000000</td>\n",
       "      <td>3924.000000</td>\n",
       "      <td>3924.000000</td>\n",
       "      <td>3924.000000</td>\n",
       "      <td>0.0</td>\n",
       "    </tr>\n",
       "    <tr>\n",
       "      <th>mean</th>\n",
       "      <td>74510.281855</td>\n",
       "      <td>10.745132</td>\n",
       "      <td>59.588940</td>\n",
       "      <td>0.908257</td>\n",
       "      <td>1083.812181</td>\n",
       "      <td>0.0</td>\n",
       "      <td>5.604230</td>\n",
       "      <td>0.834608</td>\n",
       "      <td>0.590979</td>\n",
       "      <td>0.812181</td>\n",
       "      <td>NaN</td>\n",
       "    </tr>\n",
       "    <tr>\n",
       "      <th>std</th>\n",
       "      <td>43703.084554</td>\n",
       "      <td>237.699246</td>\n",
       "      <td>18.634168</td>\n",
       "      <td>8.679394</td>\n",
       "      <td>4186.731843</td>\n",
       "      <td>0.0</td>\n",
       "      <td>4.096353</td>\n",
       "      <td>8.679228</td>\n",
       "      <td>0.914455</td>\n",
       "      <td>8.678008</td>\n",
       "      <td>NaN</td>\n",
       "    </tr>\n",
       "    <tr>\n",
       "      <th>min</th>\n",
       "      <td>9.000000</td>\n",
       "      <td>0.000000</td>\n",
       "      <td>21.000000</td>\n",
       "      <td>0.000000</td>\n",
       "      <td>0.000000</td>\n",
       "      <td>0.0</td>\n",
       "      <td>0.000000</td>\n",
       "      <td>0.000000</td>\n",
       "      <td>0.000000</td>\n",
       "      <td>0.000000</td>\n",
       "      <td>NaN</td>\n",
       "    </tr>\n",
       "    <tr>\n",
       "      <th>25%</th>\n",
       "      <td>36006.500000</td>\n",
       "      <td>0.008474</td>\n",
       "      <td>48.000000</td>\n",
       "      <td>0.000000</td>\n",
       "      <td>21.000000</td>\n",
       "      <td>0.0</td>\n",
       "      <td>3.000000</td>\n",
       "      <td>0.000000</td>\n",
       "      <td>0.000000</td>\n",
       "      <td>0.000000</td>\n",
       "      <td>NaN</td>\n",
       "    </tr>\n",
       "    <tr>\n",
       "      <th>50%</th>\n",
       "      <td>74492.000000</td>\n",
       "      <td>0.047458</td>\n",
       "      <td>61.000000</td>\n",
       "      <td>0.000000</td>\n",
       "      <td>358.000000</td>\n",
       "      <td>0.0</td>\n",
       "      <td>5.000000</td>\n",
       "      <td>0.000000</td>\n",
       "      <td>0.000000</td>\n",
       "      <td>0.000000</td>\n",
       "      <td>NaN</td>\n",
       "    </tr>\n",
       "    <tr>\n",
       "      <th>75%</th>\n",
       "      <td>112734.000000</td>\n",
       "      <td>0.268155</td>\n",
       "      <td>74.000000</td>\n",
       "      <td>0.000000</td>\n",
       "      <td>1559.000000</td>\n",
       "      <td>0.0</td>\n",
       "      <td>8.000000</td>\n",
       "      <td>0.000000</td>\n",
       "      <td>1.000000</td>\n",
       "      <td>0.000000</td>\n",
       "      <td>NaN</td>\n",
       "    </tr>\n",
       "    <tr>\n",
       "      <th>max</th>\n",
       "      <td>149966.000000</td>\n",
       "      <td>10821.000000</td>\n",
       "      <td>109.000000</td>\n",
       "      <td>98.000000</td>\n",
       "      <td>220516.000000</td>\n",
       "      <td>0.0</td>\n",
       "      <td>30.000000</td>\n",
       "      <td>98.000000</td>\n",
       "      <td>15.000000</td>\n",
       "      <td>98.000000</td>\n",
       "      <td>NaN</td>\n",
       "    </tr>\n",
       "  </tbody>\n",
       "</table>\n",
       "</div>"
      ],
      "text/plain": [
       "          Unnamed: 0  ...  NumberOfDependents\n",
       "count    3924.000000  ...                 0.0\n",
       "mean    74510.281855  ...                 NaN\n",
       "std     43703.084554  ...                 NaN\n",
       "min         9.000000  ...                 NaN\n",
       "25%     36006.500000  ...                 NaN\n",
       "50%     74492.000000  ...                 NaN\n",
       "75%    112734.000000  ...                 NaN\n",
       "max    149966.000000  ...                 NaN\n",
       "\n",
       "[8 rows x 11 columns]"
      ]
     },
     "metadata": {
      "tags": []
     },
     "execution_count": 59
    }
   ]
  },
  {
   "cell_type": "code",
   "metadata": {
    "id": "fjdzVXWMG01U",
    "colab_type": "code",
    "outputId": "e6223210-3115-426f-cfbc-1e0a56922c77",
    "colab": {
     "base_uri": "https://localhost:8080/",
     "height": 334
    }
   },
   "source": [
    "\n",
    "df[df['NumberOfDependents'].notna()].describe()"
   ],
   "execution_count": 60,
   "outputs": [
    {
     "output_type": "execute_result",
     "data": {
      "text/html": [
       "<div>\n",
       "<style scoped>\n",
       "    .dataframe tbody tr th:only-of-type {\n",
       "        vertical-align: middle;\n",
       "    }\n",
       "\n",
       "    .dataframe tbody tr th {\n",
       "        vertical-align: top;\n",
       "    }\n",
       "\n",
       "    .dataframe thead th {\n",
       "        text-align: right;\n",
       "    }\n",
       "</style>\n",
       "<table border=\"1\" class=\"dataframe\">\n",
       "  <thead>\n",
       "    <tr style=\"text-align: right;\">\n",
       "      <th></th>\n",
       "      <th>Unnamed: 0</th>\n",
       "      <th>RevolvingUtilizationOfUnsecuredLines</th>\n",
       "      <th>age</th>\n",
       "      <th>NumberOfTime30-59DaysPastDueNotWorse</th>\n",
       "      <th>DebtRatio</th>\n",
       "      <th>MonthlyIncome</th>\n",
       "      <th>NumberOfOpenCreditLinesAndLoans</th>\n",
       "      <th>NumberOfTimes90DaysLate</th>\n",
       "      <th>NumberRealEstateLoansOrLines</th>\n",
       "      <th>NumberOfTime60-89DaysPastDueNotWorse</th>\n",
       "      <th>NumberOfDependents</th>\n",
       "    </tr>\n",
       "  </thead>\n",
       "  <tbody>\n",
       "    <tr>\n",
       "      <th>count</th>\n",
       "      <td>146076.000000</td>\n",
       "      <td>146076.000000</td>\n",
       "      <td>146076.000000</td>\n",
       "      <td>146076.000000</td>\n",
       "      <td>146076.000000</td>\n",
       "      <td>1.460760e+05</td>\n",
       "      <td>146076.000000</td>\n",
       "      <td>146076.000000</td>\n",
       "      <td>146076.000000</td>\n",
       "      <td>146076.000000</td>\n",
       "      <td>146076.000000</td>\n",
       "    </tr>\n",
       "    <tr>\n",
       "      <th>mean</th>\n",
       "      <td>75013.668597</td>\n",
       "      <td>5.922272</td>\n",
       "      <td>52.099277</td>\n",
       "      <td>0.407945</td>\n",
       "      <td>333.373603</td>\n",
       "      <td>5.491805e+03</td>\n",
       "      <td>8.529279</td>\n",
       "      <td>0.250698</td>\n",
       "      <td>1.029717</td>\n",
       "      <td>0.225027</td>\n",
       "      <td>0.757222</td>\n",
       "    </tr>\n",
       "    <tr>\n",
       "      <th>std</th>\n",
       "      <td>43290.647551</td>\n",
       "      <td>250.070774</td>\n",
       "      <td>14.604005</td>\n",
       "      <td>4.002747</td>\n",
       "      <td>1943.906679</td>\n",
       "      <td>1.329790e+04</td>\n",
       "      <td>5.149533</td>\n",
       "      <td>3.977197</td>\n",
       "      <td>1.132774</td>\n",
       "      <td>3.962048</td>\n",
       "      <td>1.115086</td>\n",
       "    </tr>\n",
       "    <tr>\n",
       "      <th>min</th>\n",
       "      <td>1.000000</td>\n",
       "      <td>0.000000</td>\n",
       "      <td>0.000000</td>\n",
       "      <td>0.000000</td>\n",
       "      <td>0.000000</td>\n",
       "      <td>0.000000e+00</td>\n",
       "      <td>0.000000</td>\n",
       "      <td>0.000000</td>\n",
       "      <td>0.000000</td>\n",
       "      <td>0.000000</td>\n",
       "      <td>0.000000</td>\n",
       "    </tr>\n",
       "    <tr>\n",
       "      <th>25%</th>\n",
       "      <td>37534.750000</td>\n",
       "      <td>0.031018</td>\n",
       "      <td>41.000000</td>\n",
       "      <td>0.000000</td>\n",
       "      <td>0.171764</td>\n",
       "      <td>1.957750e+03</td>\n",
       "      <td>5.000000</td>\n",
       "      <td>0.000000</td>\n",
       "      <td>0.000000</td>\n",
       "      <td>0.000000</td>\n",
       "      <td>0.000000</td>\n",
       "    </tr>\n",
       "    <tr>\n",
       "      <th>50%</th>\n",
       "      <td>75013.500000</td>\n",
       "      <td>0.158818</td>\n",
       "      <td>52.000000</td>\n",
       "      <td>0.000000</td>\n",
       "      <td>0.357751</td>\n",
       "      <td>4.500000e+03</td>\n",
       "      <td>8.000000</td>\n",
       "      <td>0.000000</td>\n",
       "      <td>1.000000</td>\n",
       "      <td>0.000000</td>\n",
       "      <td>0.000000</td>\n",
       "    </tr>\n",
       "    <tr>\n",
       "      <th>75%</th>\n",
       "      <td>112496.250000</td>\n",
       "      <td>0.563684</td>\n",
       "      <td>62.000000</td>\n",
       "      <td>0.000000</td>\n",
       "      <td>0.766117</td>\n",
       "      <td>7.500000e+03</td>\n",
       "      <td>11.000000</td>\n",
       "      <td>0.000000</td>\n",
       "      <td>2.000000</td>\n",
       "      <td>0.000000</td>\n",
       "      <td>1.000000</td>\n",
       "    </tr>\n",
       "    <tr>\n",
       "      <th>max</th>\n",
       "      <td>150000.000000</td>\n",
       "      <td>50708.000000</td>\n",
       "      <td>107.000000</td>\n",
       "      <td>98.000000</td>\n",
       "      <td>329664.000000</td>\n",
       "      <td>3.008750e+06</td>\n",
       "      <td>58.000000</td>\n",
       "      <td>98.000000</td>\n",
       "      <td>54.000000</td>\n",
       "      <td>98.000000</td>\n",
       "      <td>20.000000</td>\n",
       "    </tr>\n",
       "  </tbody>\n",
       "</table>\n",
       "</div>"
      ],
      "text/plain": [
       "          Unnamed: 0  ...  NumberOfDependents\n",
       "count  146076.000000  ...       146076.000000\n",
       "mean    75013.668597  ...            0.757222\n",
       "std     43290.647551  ...            1.115086\n",
       "min         1.000000  ...            0.000000\n",
       "25%     37534.750000  ...            0.000000\n",
       "50%     75013.500000  ...            0.000000\n",
       "75%    112496.250000  ...            1.000000\n",
       "max    150000.000000  ...           20.000000\n",
       "\n",
       "[8 rows x 11 columns]"
      ]
     },
     "metadata": {
      "tags": []
     },
     "execution_count": 60
    }
   ]
  },
  {
   "cell_type": "code",
   "metadata": {
    "id": "-IPwp1tGG0vH",
    "colab_type": "code",
    "colab": {}
   },
   "source": [],
   "execution_count": 0,
   "outputs": []
  },
  {
   "cell_type": "code",
   "metadata": {
    "id": "u-Cux56uWvY_",
    "colab_type": "code",
    "colab": {}
   },
   "source": [],
   "execution_count": 0,
   "outputs": []
  },
  {
   "cell_type": "markdown",
   "metadata": {
    "id": "AHu3wdusdNFZ",
    "colab_type": "text"
   },
   "source": [
    "**Distribution of all vars is same for the rows having missing NumberOfDependents var.\n",
    "Hence, we are deciding to impute the missing value by median**"
   ]
  },
  {
   "cell_type": "code",
   "metadata": {
    "id": "VEQSQAz9W1tn",
    "colab_type": "code",
    "outputId": "fb5d738c-2291-4c93-e9f8-93324a2540b6",
    "colab": {
     "base_uri": "https://localhost:8080/",
     "height": 255
    }
   },
   "source": [
    "#We see a lot of 0's and 1's. It makes sense to replace missing values as 0s\n",
    "print(df['NumberOfDependents'].value_counts())\n",
    "df['NumberOfDependents'] = df['NumberOfDependents'].fillna(0) \n",
    "#Now we have got rid of missing values"
   ],
   "execution_count": 61,
   "outputs": [
    {
     "output_type": "stream",
     "text": [
      "0.0     86902\n",
      "1.0     26316\n",
      "2.0     19522\n",
      "3.0      9483\n",
      "4.0      2862\n",
      "5.0       746\n",
      "6.0       158\n",
      "7.0        51\n",
      "8.0        24\n",
      "9.0         5\n",
      "10.0        5\n",
      "13.0        1\n",
      "20.0        1\n",
      "Name: NumberOfDependents, dtype: int64\n"
     ],
     "name": "stdout"
    }
   ]
  },
  {
   "cell_type": "code",
   "metadata": {
    "id": "UPauEgCvWSu9",
    "colab_type": "code",
    "colab": {}
   },
   "source": [],
   "execution_count": 0,
   "outputs": []
  },
  {
   "cell_type": "code",
   "metadata": {
    "id": "Ui4uWCpdPSTB",
    "colab_type": "code",
    "colab": {}
   },
   "source": [],
   "execution_count": 0,
   "outputs": []
  },
  {
   "cell_type": "markdown",
   "metadata": {
    "id": "g-gENbcqdm_6",
    "colab_type": "text"
   },
   "source": [
    "**Now let's check for outliers**"
   ]
  },
  {
   "cell_type": "code",
   "metadata": {
    "id": "5ESZVfcIO4n9",
    "colab_type": "code",
    "outputId": "476b0797-735b-4c74-e927-847610be7380",
    "colab": {
     "base_uri": "https://localhost:8080/",
     "height": 204
    }
   },
   "source": [
    "df1=df[:]\n",
    "#print(df1.dtypes)\n",
    "#df1.drop(['Unnamed: 0','SeriousDlqin2yrs'], axis = 1)                        \n",
    "df1=df1[list(set(df.columns)-set(['Unnamed: 0','SeriousDlqin2yrs']))]\n",
    "#print(df.dtypes)\n",
    "print(df1.dtypes)\n"
   ],
   "execution_count": 63,
   "outputs": [
    {
     "output_type": "stream",
     "text": [
      "NumberOfTimes90DaysLate                   int64\n",
      "MonthlyIncome                           float64\n",
      "NumberRealEstateLoansOrLines              int64\n",
      "NumberOfTime60-89DaysPastDueNotWorse      int64\n",
      "NumberOfDependents                      float64\n",
      "RevolvingUtilizationOfUnsecuredLines    float64\n",
      "NumberOfOpenCreditLinesAndLoans           int64\n",
      "DebtRatio                               float64\n",
      "NumberOfTime30-59DaysPastDueNotWorse      int64\n",
      "age                                       int64\n",
      "dtype: object\n"
     ],
     "name": "stdout"
    }
   ]
  },
  {
   "cell_type": "markdown",
   "metadata": {
    "id": "ypsZPHLdd2rK",
    "colab_type": "text"
   },
   "source": [
    "**Using the boxplot method to detect ooutliers**"
   ]
  },
  {
   "cell_type": "code",
   "metadata": {
    "id": "3iBADiKEO4oA",
    "colab_type": "code",
    "colab": {}
   },
   "source": [
    "cols = df1.columns\n",
    "for i in cols:\n",
    "  Low_Bound = ((np.percentile(df[i],25)) - 1.5*np.subtract(*np.percentile(df[i],[75,25])))\n",
    "  Upp_Bound = ((np.percentile(df[i],75)) + 1.5*np.subtract(*np.percentile(df[i],[75,25])))\n",
    "  df1[i] = df[i].apply(lambda x : 1 if(x < Low_Bound or x > Upp_Bound) else 0 )\n",
    "\n",
    "\n"
   ],
   "execution_count": 0,
   "outputs": []
  },
  {
   "cell_type": "code",
   "metadata": {
    "id": "HCE3N-fRO4oE",
    "colab_type": "code",
    "outputId": "8512e268-719b-4e9a-fc1a-7b8477566277",
    "colab": {
     "base_uri": "https://localhost:8080/",
     "height": 204
    }
   },
   "source": [
    "#print(df1.dtypes)\n",
    "#print(df1.columns)\n",
    "print(df1.sum(axis = 0, skipna = True))\n",
    "\n"
   ],
   "execution_count": 65,
   "outputs": [
    {
     "output_type": "stream",
     "text": [
      "NumberOfTimes90DaysLate                  8338\n",
      "MonthlyIncome                            4264\n",
      "NumberRealEstateLoansOrLines              793\n",
      "NumberOfTime60-89DaysPastDueNotWorse     7604\n",
      "NumberOfDependents                      13336\n",
      "RevolvingUtilizationOfUnsecuredLines      763\n",
      "NumberOfOpenCreditLinesAndLoans          3980\n",
      "DebtRatio                               31311\n",
      "NumberOfTime30-59DaysPastDueNotWorse    23982\n",
      "age                                        46\n",
      "dtype: int64\n"
     ],
     "name": "stdout"
    }
   ]
  },
  {
   "cell_type": "markdown",
   "metadata": {
    "id": "golv_x68eUZV",
    "colab_type": "text"
   },
   "source": [
    "**There are lots of outliers in each var**"
   ]
  },
  {
   "cell_type": "code",
   "metadata": {
    "id": "k_b_Zz3AO4oH",
    "colab_type": "code",
    "colab": {}
   },
   "source": [
    "miss_any_rows = (df1.sum(axis = 1, skipna = True))"
   ],
   "execution_count": 0,
   "outputs": []
  },
  {
   "cell_type": "code",
   "metadata": {
    "id": "T2DY8nIZO4oN",
    "colab_type": "code",
    "outputId": "4af95937-693c-4d08-e595-f4d84367246d",
    "colab": {
     "base_uri": "https://localhost:8080/",
     "height": 51
    }
   },
   "source": [
    "#type(miss_any_rows)\n",
    "miss_any_rows = miss_any_rows.apply(lambda x : 1 if x>0 else 0)\n",
    "print(sum(miss_any_rows))\n",
    "print(sum(miss_any_rows)/df.shape[0])\n"
   ],
   "execution_count": 67,
   "outputs": [
    {
     "output_type": "stream",
     "text": [
      "70536\n",
      "0.47024\n"
     ],
     "name": "stdout"
    }
   ]
  },
  {
   "cell_type": "markdown",
   "metadata": {
    "id": "F5gUVI5UeZH1",
    "colab_type": "text"
   },
   "source": [
    "Hence, overall, we have ~47% datatpoints having one or more outliers.\n",
    "We can't remove this much data.\n",
    "Hence, let's just loook at the vars having strong correlation with our dependent var**"
   ]
  },
  {
   "cell_type": "code",
   "metadata": {
    "id": "Vog2pq9cO4oP",
    "colab_type": "code",
    "colab": {}
   },
   "source": [],
   "execution_count": 0,
   "outputs": []
  },
  {
   "cell_type": "code",
   "metadata": {
    "id": "4MvZGb2W_xT9",
    "colab_type": "code",
    "colab": {}
   },
   "source": [
    "#np.abs(corr.SeriousDlqin2yrs).sort_values(ascending=False)\n"
   ],
   "execution_count": 0,
   "outputs": []
  },
  {
   "cell_type": "code",
   "metadata": {
    "id": "qV-pP_RKAVXU",
    "colab_type": "code",
    "colab": {}
   },
   "source": [],
   "execution_count": 0,
   "outputs": []
  },
  {
   "cell_type": "code",
   "metadata": {
    "id": "agla3VWwA0sg",
    "colab_type": "code",
    "outputId": "ae9992da-5537-4ef6-ec38-041476209859",
    "colab": {
     "base_uri": "https://localhost:8080/",
     "height": 374
    }
   },
   "source": [
    "df2 = df1[['NumberOfTime30-59DaysPastDueNotWorse','NumberOfTimes90DaysLate','age','NumberOfTime60-89DaysPastDueNotWorse']]\n",
    "print(df2.dtypes)\n",
    "print(df2)\n",
    "miss_any_rows = (df2.sum(axis = 1, skipna = True))\n",
    "miss_any_rows = miss_any_rows.apply(lambda x : 1 if x>0 else 0)\n",
    "print(sum(miss_any_rows))\n",
    "print(sum(miss_any_rows)/df.shape[0])"
   ],
   "execution_count": 68,
   "outputs": [
    {
     "output_type": "stream",
     "text": [
      "NumberOfTime30-59DaysPastDueNotWorse    int64\n",
      "NumberOfTimes90DaysLate                 int64\n",
      "age                                     int64\n",
      "NumberOfTime60-89DaysPastDueNotWorse    int64\n",
      "dtype: object\n",
      "        NumberOfTime30-59DaysPastDueNotWorse  ...  NumberOfTime60-89DaysPastDueNotWorse\n",
      "0                                          1  ...                                     0\n",
      "1                                          0  ...                                     0\n",
      "2                                          1  ...                                     0\n",
      "3                                          0  ...                                     0\n",
      "4                                          1  ...                                     0\n",
      "...                                      ...  ...                                   ...\n",
      "149995                                     0  ...                                     0\n",
      "149996                                     0  ...                                     0\n",
      "149997                                     0  ...                                     0\n",
      "149998                                     0  ...                                     0\n",
      "149999                                     0  ...                                     0\n",
      "\n",
      "[150000 rows x 4 columns]\n",
      "30402\n",
      "0.20268\n"
     ],
     "name": "stdout"
    }
   ]
  },
  {
   "cell_type": "code",
   "metadata": {
    "id": "aWQ7vg3TA0o9",
    "colab_type": "code",
    "outputId": "44dcd106-c749-410d-c206-f2aefc88b454",
    "colab": {
     "base_uri": "https://localhost:8080/",
     "height": 102
    }
   },
   "source": [
    "(df2.sum(axis = 0, skipna = True))"
   ],
   "execution_count": 69,
   "outputs": [
    {
     "output_type": "execute_result",
     "data": {
      "text/plain": [
       "NumberOfTime30-59DaysPastDueNotWorse    23982\n",
       "NumberOfTimes90DaysLate                  8338\n",
       "age                                        46\n",
       "NumberOfTime60-89DaysPastDueNotWorse     7604\n",
       "dtype: int64"
      ]
     },
     "metadata": {
      "tags": []
     },
     "execution_count": 69
    }
   ]
  },
  {
   "cell_type": "markdown",
   "metadata": {
    "id": "vW8bbBnEexOu",
    "colab_type": "text"
   },
   "source": [
    "**Still we have 20% data to be removed. We won't do that**"
   ]
  },
  {
   "cell_type": "code",
   "metadata": {
    "id": "lnkFUDstBMnh",
    "colab_type": "code",
    "colab": {}
   },
   "source": [],
   "execution_count": 0,
   "outputs": []
  },
  {
   "cell_type": "markdown",
   "metadata": {
    "id": "4YSsQMw5e-LA",
    "colab_type": "text"
   },
   "source": [
    "**Let's now look at distribution of all vars**"
   ]
  },
  {
   "cell_type": "code",
   "metadata": {
    "id": "sJScS65rO4oa",
    "colab_type": "code",
    "outputId": "9080437d-ea1f-47b1-b6fa-d87b0cca01c0",
    "colab": {
     "base_uri": "https://localhost:8080/",
     "height": 935
    }
   },
   "source": [
    "print(df['NumberOfTime30-59DaysPastDueNotWorse'].nunique())\n",
    "print(df['NumberOfTime30-59DaysPastDueNotWorse'].value_counts().sort_index())\n",
    "             \n",
    "print(df['NumberOfTimes90DaysLate'].nunique())\n",
    "print(df['NumberOfTimes90DaysLate'].value_counts().sort_index())\n",
    "\n",
    "print(df['NumberOfTime60-89DaysPastDueNotWorse'].nunique())\n",
    "print(df['NumberOfTime60-89DaysPastDueNotWorse'].value_counts().sort_index())\n"
   ],
   "execution_count": 70,
   "outputs": [
    {
     "output_type": "stream",
     "text": [
      "16\n",
      "0     126018\n",
      "1      16033\n",
      "2       4598\n",
      "3       1754\n",
      "4        747\n",
      "5        342\n",
      "6        140\n",
      "7         54\n",
      "8         25\n",
      "9         12\n",
      "10         4\n",
      "11         1\n",
      "12         2\n",
      "13         1\n",
      "96         5\n",
      "98       264\n",
      "Name: NumberOfTime30-59DaysPastDueNotWorse, dtype: int64\n",
      "19\n",
      "0     141662\n",
      "1       5243\n",
      "2       1555\n",
      "3        667\n",
      "4        291\n",
      "5        131\n",
      "6         80\n",
      "7         38\n",
      "8         21\n",
      "9         19\n",
      "10         8\n",
      "11         5\n",
      "12         2\n",
      "13         4\n",
      "14         2\n",
      "15         2\n",
      "17         1\n",
      "96         5\n",
      "98       264\n",
      "Name: NumberOfTimes90DaysLate, dtype: int64\n",
      "13\n",
      "0     142396\n",
      "1       5731\n",
      "2       1118\n",
      "3        318\n",
      "4        105\n",
      "5         34\n",
      "6         16\n",
      "7          9\n",
      "8          2\n",
      "9          1\n",
      "11         1\n",
      "96         5\n",
      "98       264\n",
      "Name: NumberOfTime60-89DaysPastDueNotWorse, dtype: int64\n"
     ],
     "name": "stdout"
    }
   ]
  },
  {
   "cell_type": "markdown",
   "metadata": {
    "id": "WpM6NesTfKPp",
    "colab_type": "text"
   },
   "source": [
    "**Capping as required**"
   ]
  },
  {
   "cell_type": "code",
   "metadata": {
    "id": "p9oOmqHFr_MJ",
    "colab_type": "code",
    "colab": {}
   },
   "source": [
    "df.loc[df['NumberOfTime30-59DaysPastDueNotWorse']>20,'NumberOfTime30-59DaysPastDueNotWorse'] = 20\n",
    "df.loc[df['NumberOfTimes90DaysLate']>20,'NumberOfTimes90DaysLate'] = 20\n",
    "df.loc[df['NumberOfTime60-89DaysPastDueNotWorse']>20,'NumberOfTime60-89DaysPastDueNotWorse'] = 20"
   ],
   "execution_count": 0,
   "outputs": []
  },
  {
   "cell_type": "code",
   "metadata": {
    "id": "NGrNUOfol5ox",
    "colab_type": "code",
    "outputId": "285332f1-c2d4-4787-d551-a8af12c500d4",
    "colab": {
     "base_uri": "https://localhost:8080/",
     "height": 1000
    }
   },
   "source": [
    "print(df['NumberRealEstateLoansOrLines'].nunique())\n",
    "print(df['NumberRealEstateLoansOrLines'].value_counts().sort_index())\n",
    "             \n",
    "print(df['age'].nunique())\n",
    "print(df['age'].value_counts().sort_index())\n",
    "\n",
    "print(df['NumberOfDependents'].nunique())\n",
    "print(df['NumberOfDependents'].value_counts().sort_index())\n",
    "\n",
    "print(df['NumberOfOpenCreditLinesAndLoans'].nunique())\n",
    "print(df['NumberOfOpenCreditLinesAndLoans'].value_counts().sort_index())"
   ],
   "execution_count": 72,
   "outputs": [
    {
     "output_type": "stream",
     "text": [
      "28\n",
      "0     56188\n",
      "1     52338\n",
      "2     31522\n",
      "3      6300\n",
      "4      2170\n",
      "5       689\n",
      "6       320\n",
      "7       171\n",
      "8        93\n",
      "9        78\n",
      "10       37\n",
      "11       23\n",
      "12       18\n",
      "13       15\n",
      "14        7\n",
      "15        7\n",
      "16        4\n",
      "17        4\n",
      "18        2\n",
      "19        2\n",
      "20        2\n",
      "21        1\n",
      "23        2\n",
      "25        3\n",
      "26        1\n",
      "29        1\n",
      "32        1\n",
      "54        1\n",
      "Name: NumberRealEstateLoansOrLines, dtype: int64\n",
      "86\n",
      "0        1\n",
      "21     183\n",
      "22     434\n",
      "23     641\n",
      "24     816\n",
      "      ... \n",
      "102      3\n",
      "103      3\n",
      "105      1\n",
      "107      1\n",
      "109      2\n",
      "Name: age, Length: 86, dtype: int64\n",
      "13\n",
      "0.0     90826\n",
      "1.0     26316\n",
      "2.0     19522\n",
      "3.0      9483\n",
      "4.0      2862\n",
      "5.0       746\n",
      "6.0       158\n",
      "7.0        51\n",
      "8.0        24\n",
      "9.0         5\n",
      "10.0        5\n",
      "13.0        1\n",
      "20.0        1\n",
      "Name: NumberOfDependents, dtype: int64\n",
      "58\n",
      "0      1888\n",
      "1      4438\n",
      "2      6666\n",
      "3      9058\n",
      "4     11609\n",
      "5     12931\n",
      "6     13614\n",
      "7     13245\n",
      "8     12562\n",
      "9     11355\n",
      "10     9624\n",
      "11     8321\n",
      "12     7005\n",
      "13     5667\n",
      "14     4546\n",
      "15     3645\n",
      "16     3000\n",
      "17     2370\n",
      "18     1874\n",
      "19     1433\n",
      "20     1169\n",
      "21      864\n",
      "22      685\n",
      "23      533\n",
      "24      422\n",
      "25      337\n",
      "26      239\n",
      "27      194\n",
      "28      150\n",
      "29      114\n",
      "30       88\n",
      "31       74\n",
      "32       52\n",
      "33       47\n",
      "34       35\n",
      "35       27\n",
      "36       18\n",
      "37        7\n",
      "38       13\n",
      "39        9\n",
      "40       10\n",
      "41        4\n",
      "42        8\n",
      "43        8\n",
      "44        2\n",
      "45        8\n",
      "46        3\n",
      "47        2\n",
      "48        6\n",
      "49        4\n",
      "50        2\n",
      "51        2\n",
      "52        3\n",
      "53        1\n",
      "54        4\n",
      "56        2\n",
      "57        2\n",
      "58        1\n",
      "Name: NumberOfOpenCreditLinesAndLoans, dtype: int64\n"
     ],
     "name": "stdout"
    }
   ]
  },
  {
   "cell_type": "markdown",
   "metadata": {
    "id": "ZDaRX9NsfVy_",
    "colab_type": "text"
   },
   "source": [
    "**Capping as required**"
   ]
  },
  {
   "cell_type": "code",
   "metadata": {
    "id": "tjnUBMaktlji",
    "colab_type": "code",
    "colab": {}
   },
   "source": [
    "df.loc[df['NumberRealEstateLoansOrLines']>30,'NumberRealEstateLoansOrLines'] = 30\n",
    "df.loc[df['NumberOfOpenCreditLinesAndLoans']>40,'NumberOfOpenCreditLinesAndLoans'] = 40\n"
   ],
   "execution_count": 0,
   "outputs": []
  },
  {
   "cell_type": "markdown",
   "metadata": {
    "id": "muqVJLqffhbU",
    "colab_type": "text"
   },
   "source": [
    "**Now, let's look at distribution of the remaining 3 continuour vars**"
   ]
  },
  {
   "cell_type": "code",
   "metadata": {
    "id": "5rbZAQ_O3iko",
    "colab_type": "code",
    "colab": {
     "base_uri": "https://localhost:8080/",
     "height": 694
    },
    "outputId": "de9b02eb-8fe6-4c74-9ca8-55916eea9f21"
   },
   "source": [
    "varNames = ['RevolvingUtilizationOfUnsecuredLines', 'DebtRatio', 'MonthlyIncome']\n",
    "\n",
    "import matplotlib.pyplot as plt\n",
    "import numpy as np\n",
    "from statsmodels.distributions.empirical_distribution import ECDF\n",
    "def visualizeECDF( variable,data):\n",
    "    df = data[:] \n",
    "    ecdf = ECDF(df[variable])\n",
    "    x = np.linspace(min(df[variable]), np.percentile(df[variable],99.5))\n",
    "    y = ecdf(x)\n",
    "    plt.step(x, y)\n",
    "\n",
    "np.random.seed(100)\n",
    "fig, axes = plt.subplots(nrows=3, ncols=2)\n",
    "fig.tight_layout()\n",
    "fig.set_figheight(10)\n",
    "fig.set_figwidth(15)\n",
    "\n",
    "plt.subplots_adjust(hspace=0.5)\n",
    "\n",
    "ax = plt.subplot(3,2,1)\n",
    "ax.set_title(varNames[0])\n",
    "visualizeECDF(varNames[0], data = df)\n",
    "\n",
    "\n",
    "perc = [97.5,98,98.5,99,99.5,100]\n",
    "val = []\n",
    "for i in perc:\n",
    "  val.append(np.percentile(df['RevolvingUtilizationOfUnsecuredLines'],i ))\n",
    "ax = plt.subplot(3,2,2)\n",
    "ax.set_title(varNames[0])\n",
    "plt.plot(perc, val, 'go--', linewidth=2, markersize=12)\n",
    "\n",
    "\n",
    "\n",
    "ax = plt.subplot(3,2,3)\n",
    "ax.set_title(varNames[1])\n",
    "visualizeECDF(varNames[1], data = df)\n",
    "\n",
    "\n",
    "perc = [97.5,98,98.5,99,99.5,100]\n",
    "val = []\n",
    "for i in perc:\n",
    "  val.append(np.percentile(df['DebtRatio'],i ))\n",
    "ax = plt.subplot(3,2,4)\n",
    "ax.set_title(varNames[1])\n",
    "plt.plot(perc, val, 'go--', linewidth=2, markersize=12)\n",
    "\n",
    "\n",
    "\n",
    "ax = plt.subplot(3,2,5)\n",
    "ax.set_title(varNames[2])\n",
    "visualizeECDF(varNames[2], data = df)\n",
    "\n",
    "\n",
    "perc = [97.5,98,98.5,99,99.5,100]\n",
    "val = []\n",
    "for i in perc:\n",
    "  val.append(np.percentile(df['MonthlyIncome'],i ))\n",
    "ax = plt.subplot(3,2,6)\n",
    "ax.set_title(varNames[2])\n",
    "plt.plot(perc, val, 'go--', linewidth=2, markersize=12)\n"
   ],
   "execution_count": 74,
   "outputs": [
    {
     "output_type": "execute_result",
     "data": {
      "text/plain": [
       "[<matplotlib.lines.Line2D at 0x7f7887b91940>]"
      ]
     },
     "metadata": {
      "tags": []
     },
     "execution_count": 74
    },
    {
     "output_type": "display_data",
     "data": {
      "image/png": "[encoded data removed]",
      "text/plain": [
       "<Figure size 1080x720 with 6 Axes>"
      ]
     },
     "metadata": {
      "tags": []
     }
    }
   ]
  },
  {
   "cell_type": "code",
   "metadata": {
    "id": "UVjAnpJW_w82",
    "colab_type": "code",
    "colab": {
     "base_uri": "https://localhost:8080/",
     "height": 374
    },
    "outputId": "fa53112f-18f7-4472-ea5d-96ecf0a7c741"
   },
   "source": [
    "df1 = df[['RevolvingUtilizationOfUnsecuredLines', 'DebtRatio', 'MonthlyIncome']]\n",
    "\n",
    "\n",
    "var1_cap = np.percentile(df['RevolvingUtilizationOfUnsecuredLines'],99.5)\n",
    "var2_cap = np.percentile(df['DebtRatio'],99.5)\n",
    "var3_cap = np.percentile(df['MonthlyIncome'],99.5)\n",
    "print(var1_cap)\n",
    "print(var2_cap)\n",
    "print(var3_cap)\n",
    "\n",
    "\n",
    "df1['RevolvingUtilizationOfUnsecuredLines'] = df1['RevolvingUtilizationOfUnsecuredLines'].apply(lambda x : x if x<=var1_cap else var1_cap)\n",
    "df1['DebtRatio'] = df1['DebtRatio'].apply(lambda x : x if x<=var1_cap else var1_cap)\n",
    "df1['MonthlyIncome'] = df1['MonthlyIncome'].apply(lambda x : x if x<=var1_cap else var1_cap)\n"
   ],
   "execution_count": 76,
   "outputs": [
    {
     "output_type": "stream",
     "text": [
      "1.366269304065009\n",
      "8.730207211562034\n",
      "31250.0\n"
     ],
     "name": "stdout"
    },
    {
     "output_type": "stream",
     "text": [
      "/usr/local/lib/python3.6/dist-packages/ipykernel_launcher.py:12: SettingWithCopyWarning: \n",
      "A value is trying to be set on a copy of a slice from a DataFrame.\n",
      "Try using .loc[row_indexer,col_indexer] = value instead\n",
      "\n",
      "See the caveats in the documentation: http://pandas.pydata.org/pandas-docs/stable/user_guide/indexing.html#returning-a-view-versus-a-copy\n",
      "  if sys.path[0] == '':\n",
      "/usr/local/lib/python3.6/dist-packages/ipykernel_launcher.py:13: SettingWithCopyWarning: \n",
      "A value is trying to be set on a copy of a slice from a DataFrame.\n",
      "Try using .loc[row_indexer,col_indexer] = value instead\n",
      "\n",
      "See the caveats in the documentation: http://pandas.pydata.org/pandas-docs/stable/user_guide/indexing.html#returning-a-view-versus-a-copy\n",
      "  del sys.path[0]\n",
      "/usr/local/lib/python3.6/dist-packages/ipykernel_launcher.py:14: SettingWithCopyWarning: \n",
      "A value is trying to be set on a copy of a slice from a DataFrame.\n",
      "Try using .loc[row_indexer,col_indexer] = value instead\n",
      "\n",
      "See the caveats in the documentation: http://pandas.pydata.org/pandas-docs/stable/user_guide/indexing.html#returning-a-view-versus-a-copy\n",
      "  \n"
     ],
     "name": "stderr"
    }
   ]
  },
  {
   "cell_type": "code",
   "metadata": {
    "id": "epra4QiD-LVc",
    "colab_type": "code",
    "colab": {
     "base_uri": "https://localhost:8080/",
     "height": 371
    },
    "outputId": "c3582405-f3ba-404d-b301-3b2623cd9404",
    "pycharm": {
     "name": "#%%\n"
    }
   },
   "source": [
    "\n",
    "\n",
    "import matplotlib.pyplot as plt\n",
    "import numpy as np\n",
    "from statsmodels.distributions.empirical_distribution import ECDF\n",
    "def visualizeECDF( variable,data):\n",
    "    df = data[:] \n",
    "    ecdf = ECDF(df[variable])\n",
    "    x = np.linspace(min(df[variable]), np.percentile(df[variable],99.5))\n",
    "    y = ecdf(x)\n",
    "    plt.step(x, y)\n",
    "\n",
    "np.random.seed(100)\n",
    "fig, axes = plt.subplots(nrows=1, ncols=2)\n",
    "fig.tight_layout()\n",
    "fig.set_figheight(5)\n",
    "fig.set_figwidth(15)\n",
    "\n",
    "plt.subplots_adjust(hspace=0.5)\n",
    "\n",
    "ax = plt.subplot(1,2,1)\n",
    "ax.set_title('DebtRatio')\n",
    "visualizeECDF('DebtRatio', data = df)\n",
    "\n",
    "\n",
    "df['DebtRatio'] = np.log(df['DebtRatio']+1)\n",
    "\n",
    "\n",
    "ax = plt.subplot(1,2,2)\n",
    "ax.set_title('DebtRatio')\n",
    "visualizeECDF('DebtRatio', data = df)\n"
   ],
   "execution_count": 75,
   "outputs": [
    {
     "output_type": "display_data",
     "data": {
      "image/png": "[encoded data removed]",
      "text/plain": [
       "<Figure size 1080x360 with 2 Axes>"
      ]
     },
     "metadata": {
      "tags": []
     }
    }
   ]
  }
 ]
}